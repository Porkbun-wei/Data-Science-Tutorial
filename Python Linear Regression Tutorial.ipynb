{
 "cells": [
  {
   "cell_type": "markdown",
   "metadata": {
    "colab": {},
    "colab_type": "code",
    "id": "h22oE0tXn2F5"
   },
   "source": [
    "# Step-by-step tutorial of simple linear regression in Python using Matrix Algebra and Sklearn\n",
    "\n",
    "This is a simple tutorial for performing linear regression using either matrix algebra or using the sklearn library. "
   ]
  },
  {
   "cell_type": "markdown",
   "metadata": {},
   "source": [
    "**1. First, generate arbituary data for x and y**"
   ]
  },
  {
   "cell_type": "code",
   "execution_count": 1,
   "metadata": {
    "colab": {},
    "colab_type": "code",
    "id": "aI58V9XX-fAY"
   },
   "outputs": [],
   "source": [
    "import random #import library so that we can generate random number\n",
    "\n",
    "random.seed(12345) # set a seed for random number to produce repeatable result every time the code runs\n",
    "\n",
    "# generate x and y data. Their data type will be python list\n",
    "# random.randrange (a,b) will generate random integer between a (inclusive) and b-1\n",
    "# x and y must be the same size\n",
    "x = [x_i*random.randrange(8,12)/10 for x_i in range(500)]\n",
    "y = [y_i*random.randrange(8,12)/10 for y_i in range(100,600)]"
   ]
  },
  {
   "cell_type": "markdown",
   "metadata": {},
   "source": [
    "To insure regression will work, both x and y must have the same length. Let's check the size of x and y"
   ]
  },
  {
   "cell_type": "code",
   "execution_count": 2,
   "metadata": {},
   "outputs": [
    {
     "name": "stdout",
     "output_type": "stream",
     "text": [
      "Both x and y have the same length, and there length is 500\n"
     ]
    }
   ],
   "source": [
    "if len(x) == len(y):\n",
    "    print (\"Both x and y have the same length, and there length is {}\".format(len(x)))\n",
    "else: \n",
    "    print (\"x and y have different length ! Regression won't work\")\n",
    "    print (\"The length of x is {}, and the length of y is {}\".format(len(x),len(y)))"
   ]
  },
  {
   "cell_type": "markdown",
   "metadata": {},
   "source": [
    "Let's print out the first 5 element for x and y"
   ]
  },
  {
   "cell_type": "code",
   "execution_count": 3,
   "metadata": {},
   "outputs": [
    {
     "name": "stdout",
     "output_type": "stream",
     "text": [
      "The first 5 element of x is [0.0, 0.8, 2.0, 3.0, 3.6, 5.0, 6.6, 6.3, 8.0, 7.2]\n",
      "The first 5 element of y is [90.0, 101.0, 91.8, 82.4, 104.0, 115.5, 106.0, 96.3, 108.0, 119.9]\n"
     ]
    }
   ],
   "source": [
    "print (\"The first 5 element of x is {}\".format(x[:10]))\n",
    "print (\"The first 5 element of y is {}\".format(y[:10]))"
   ]
  },
  {
   "cell_type": "markdown",
   "metadata": {},
   "source": [
    "**2. Visualizing data but plotting scatterplot using matplotlib**"
   ]
  },
  {
   "cell_type": "code",
   "execution_count": 4,
   "metadata": {},
   "outputs": [
    {
     "data": {
      "image/png": "[encoded data removed]",
      "text/plain": [
       "<Figure size 432x432 with 1 Axes>"
      ]
     },
     "metadata": {
      "needs_background": "light"
     },
     "output_type": "display_data"
    }
   ],
   "source": [
    "%matplotlib inline  \n",
    "#for plotting in Jupyter Notebook\n",
    "from matplotlib import pyplot as plt  # import matlibplot \n",
    "\n",
    "plt.figure(figsize=(6,6)) # set up figure size\n",
    "plt.scatter(x,y)  # plot the scatter plot\n",
    "\n",
    "plt.ylabel('y',fontsize = 16) #set up label name\n",
    "plt.xlabel('x',fontsize = 16)\n",
    "plt.title('Scatter Plot of x and y',fontsize = 18) # set up title\n",
    "\n",
    "plt.show()"
   ]
  },
  {
   "cell_type": "markdown",
   "metadata": {
    "colab": {},
    "colab_type": "code",
    "id": "1eTInrFX-f3x"
   },
   "source": [
    "**3. Method 1: Use linear algrebra to solve for the slope and intecept**"
   ]
  },
  {
   "cell_type": "code",
   "execution_count": 5,
   "metadata": {},
   "outputs": [],
   "source": [
    "# solving using linear algebra method \n",
    "import numpy as np\n",
    "\n",
    "# find out the length of X and y\n",
    "len_X  = len(x)\n",
    "len_Y = len(y)"
   ]
  },
  {
   "cell_type": "markdown",
   "metadata": {},
   "source": [
    "**3.1 Set up feature matrix**"
   ]
  },
  {
   "cell_type": "markdown",
   "metadata": {},
   "source": [
    "Let's set up the feature matrix\n",
    "\n",
    "The feature matrix (X) will have p+1 columns, with p being the number of independent variable. The +1 is due to the intercept.\n",
    "\n",
    "(Note: In general, linear regression without intercept is not recommended because the R^2 value will be arbituary boosted, leading to wrong conclusion.)\n",
    "\n",
    "\n",
    "Each column in the feature matrix stands for the data in each predictive variable. The first column is always 1 due to the intercept. In this case, the 2nd column is just x. \n",
    "\n"
   ]
  },
  {
   "cell_type": "code",
   "execution_count": 6,
   "metadata": {},
   "outputs": [
    {
     "name": "stdout",
     "output_type": "stream",
     "text": [
      "The first 5 columns of X_matrix is:\n",
      " [[1.  0. ]\n",
      " [1.  0.8]\n",
      " [1.  2. ]\n",
      " [1.  3. ]\n",
      " [1.  3.6]]\n",
      "The shape of X matrix is:  (500, 2)\n"
     ]
    }
   ],
   "source": [
    "# setup feature matrix\n",
    "X = np.column_stack((np.ones(len_X), np.array(x)))\n",
    "print (\"The first 5 columns of X_matrix is:\\n\", X[:5])\n",
    "print (\"The shape of X matrix is: \", X.shape) "
   ]
  },
  {
   "cell_type": "markdown",
   "metadata": {},
   "source": [
    "**3.2 Set up target matrix**"
   ]
  },
  {
   "cell_type": "code",
   "execution_count": 7,
   "metadata": {},
   "outputs": [],
   "source": [
    "# set up target matrix\n",
    "Y = np.array(y).reshape(len_Y,1)"
   ]
  },
  {
   "cell_type": "code",
   "execution_count": 8,
   "metadata": {},
   "outputs": [
    {
     "name": "stdout",
     "output_type": "stream",
     "text": [
      "The first 5 columns of Y_matrix is:\n",
      " [[ 90. ]\n",
      " [101. ]\n",
      " [ 91.8]\n",
      " [ 82.4]\n",
      " [104. ]]\n",
      "The shape of Y matrix is:  (500, 1)\n"
     ]
    }
   ],
   "source": [
    "print (\"The first 5 columns of Y_matrix is:\\n\", Y[:5])\n",
    "print (\"The shape of Y matrix is: \", Y.shape) "
   ]
  },
  {
   "cell_type": "markdown",
   "metadata": {},
   "source": [
    "**3.3 Use linear algreba to find out regression coefficients.**"
   ]
  },
  {
   "cell_type": "markdown",
   "metadata": {},
   "source": [
    "Find out beta (matrix for regression coefficient using linear algebra method)\n",
    "\n",
    "The formula for finding the beta is beta = (X^T * X)^-1 * X^T * y\n",
    "\n",
    "X^T means transpose X. In python numpy library, we can write in as X.T\n",
    "the asterisk means dot product, in python, we use dot(X)\n",
    "^-1 is inverse, in numpy, we use np.linalg.inv\n",
    "\n",
    "Reference and derivation: https://newonlinecourses.science.psu.edu/stat501/node/382/"
   ]
  },
  {
   "cell_type": "code",
   "execution_count": 9,
   "metadata": {},
   "outputs": [
    {
     "name": "stdout",
     "output_type": "stream",
     "text": [
      "beta matrix \n",
      "\n",
      "[[107.01399744]\n",
      " [  0.95181895]]\n",
      "The shape of beta matrix is:  (2, 1)\n"
     ]
    }
   ],
   "source": [
    "beta = np.linalg.inv(X.T.dot(X)).dot(X.T).dot(Y)\n",
    "print (\"beta matrix \\n\")\n",
    "print (beta)\n",
    "print (\"The shape of beta matrix is: \", beta.shape) "
   ]
  },
  {
   "cell_type": "markdown",
   "metadata": {},
   "source": [
    "The beta matrix is a column matrix with 2 row. The 1st element in the coefficient assocaited with the intercept. \n",
    "The 2nd element is the coefficient for the independent variable (x)"
   ]
  },
  {
   "cell_type": "markdown",
   "metadata": {},
   "source": [
    "**3.4 Find the slope and intercept:**"
   ]
  },
  {
   "cell_type": "code",
   "execution_count": 10,
   "metadata": {},
   "outputs": [
    {
     "name": "stdout",
     "output_type": "stream",
     "text": [
      "The beta matrix is: \n",
      " [[107.01399744]\n",
      " [  0.95181895]]\n",
      "The shape of beta is:  (2, 1)\n",
      "\n",
      "\n",
      "The intercept of the best fit line is 107.01\n",
      "The slope of the best fit line is 0.95\n",
      "The equation is: y = 0.95 x + 107.01\n"
     ]
    }
   ],
   "source": [
    "intercept = beta[0,0]\n",
    "slope = beta[1,0]\n",
    "\n",
    "print (\"The beta matrix is: \\n\", beta)\n",
    "print (\"The shape of beta is: \", beta.shape) \n",
    "print (\"\\n\")\n",
    "print (\"The intercept of the best fit line is {}\".format(np.round(intercept,2)))\n",
    "print (\"The slope of the best fit line is {}\".format(np.round(slope,2)))\n",
    "print (\"The equation is: y = {} x + {}\". format(np.round(slope,2),np.round(intercept,2)))"
   ]
  },
  {
   "cell_type": "markdown",
   "metadata": {},
   "source": [
    "**3.5 Find out the predicted value of y**"
   ]
  },
  {
   "cell_type": "markdown",
   "metadata": {},
   "source": [
    "Find the predict value of y"
   ]
  },
  {
   "cell_type": "code",
   "execution_count": 11,
   "metadata": {},
   "outputs": [
    {
     "name": "stdout",
     "output_type": "stream",
     "text": [
      "The first 5 element of the predicted value of y in matrix form is: \n",
      "[[107.01399744]\n",
      " [107.77545261]\n",
      " [108.91763535]\n",
      " [109.8694543 ]\n",
      " [110.44054568]\n",
      " [111.77309221]\n",
      " [113.29600254]\n",
      " [113.01045685]\n",
      " [114.62854907]\n",
      " [113.86709391]]\n",
      "The shape of predicted value of y in matrix form:  (500, 1)\n"
     ]
    }
   ],
   "source": [
    "Y_predicted = X.dot(beta) # the Y_predicted will be in matrix form with 1 column\n",
    "print (\"The first 5 element of the predicted value of y in matrix form is: \\n{}\".format(Y_predicted[:10]))\n",
    "print (\"The shape of predicted value of y in matrix form: \", Y_predicted.shape)  "
   ]
  },
  {
   "cell_type": "markdown",
   "metadata": {},
   "source": [
    "**3.6 Plot the predicted regression line against the data.**"
   ]
  },
  {
   "cell_type": "code",
   "execution_count": 12,
   "metadata": {},
   "outputs": [
    {
     "data": {
      "text/plain": [
       "Text(50, 550, 'y = 0.95 x + 107.01')"
      ]
     },
     "execution_count": 12,
     "metadata": {},
     "output_type": "execute_result"
    },
    {
     "data": {
      "image/png": "[encoded data removed]",
      "text/plain": [
       "<Figure size 576x576 with 1 Axes>"
      ]
     },
     "metadata": {
      "needs_background": "light"
     },
     "output_type": "display_data"
    }
   ],
   "source": [
    "# plotting, reference: https://stackoverflow.com/questions/7941226/how-to-add-line-based-on-slope-and-intercept-in-matplotlib\n",
    "import matplotlib.pyplot as plt \n",
    "import numpy as np    \n",
    "\n",
    "# plot the original data\n",
    "plt.figure(figsize=(8,8))\n",
    "plt.scatter(x,y)\n",
    "plt.ylabel('y')\n",
    "plt.xlabel('x')\n",
    "plt.title('Linear regression via least squares fit')\n",
    "\n",
    "# plot the fitted line\n",
    "plt.plot(X[:,1],Y_predicted,'-',color = \"black\",linewidth=2)\n",
    "\n",
    "#abline(slope, intercept)\n",
    "plt.text(x = 50, y =550, \n",
    "         s = \"y = {} x + {}\". format(np.round(slope,2),np.round(intercept,2)),\n",
    "        fontsize = 12)"
   ]
  },
  {
   "cell_type": "markdown",
   "metadata": {},
   "source": [
    "**4. Method 2: Using Sklearn Library**"
   ]
  },
  {
   "cell_type": "code",
   "execution_count": 13,
   "metadata": {
    "scrolled": true
   },
   "outputs": [
    {
     "name": "stdout",
     "output_type": "stream",
     "text": [
      "The intercept of the best fit line is 107.01399744459192\n",
      "The slope of the best fit line is 0.9518189531912672\n"
     ]
    }
   ],
   "source": [
    "# compare with sklearn\n",
    "from sklearn.linear_model import LinearRegression\n",
    "lin_reg = LinearRegression()\n",
    "\n",
    "#remember the data type of x and y are python list\n",
    "# sklearn accepts data type of either pandas dataframe or numpy array\n",
    "lin_reg.fit(np.array(x).reshape(-1,1), np.array(y).reshape(-1,1))  # need to reshapse to column array\n",
    "\n",
    "print (\"The intercept of the best fit line is {}\".format(lin_reg.intercept_[0]))\n",
    "print (\"The slope of the best fit line is {}\".format(lin_reg.coef_[0][0])) "
   ]
  },
  {
   "cell_type": "markdown",
   "metadata": {},
   "source": [
    "Predict the value of y: "
   ]
  },
  {
   "cell_type": "code",
   "execution_count": 14,
   "metadata": {},
   "outputs": [
    {
     "name": "stdout",
     "output_type": "stream",
     "text": [
      "[[107.01399744]\n",
      " [107.77545261]\n",
      " [108.91763535]\n",
      " [109.8694543 ]\n",
      " [110.44054568]]\n"
     ]
    }
   ],
   "source": [
    "y_predicted_2 = lin_reg.predict(np.array(x).reshape(-1,1))\n",
    "print (y_predicted_2[:5,])"
   ]
  },
  {
   "cell_type": "markdown",
   "metadata": {},
   "source": [
    "As you can see, the sklearn output the same result as the matrix algebra method"
   ]
  },
  {
   "cell_type": "markdown",
   "metadata": {},
   "source": [
    "# End of Tutorial"
   ]
  }
 ],
 "metadata": {
  "colab": {
   "collapsed_sections": [],
   "name": "JN1st.ipynb",
   "provenance": [],
   "version": "0.3.2"
  },
  "kernelspec": {
   "display_name": "Python 3",
   "language": "python",
   "name": "python3"
  },
  "language_info": {
   "codemirror_mode": {
    "name": "ipython",
    "version": 3
   },
   "file_extension": ".py",
   "mimetype": "text/x-python",
   "name": "python",
   "nbconvert_exporter": "python",
   "pygments_lexer": "ipython3",
   "version": "3.7.1"
  }
 },
 "nbformat": 4,
 "nbformat_minor": 1
}
